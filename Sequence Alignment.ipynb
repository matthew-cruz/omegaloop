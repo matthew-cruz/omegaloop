{
 "cells": [
  {
   "cell_type": "markdown",
   "metadata": {},
   "source": [
    "# Analysis of global beta-lactamase omega-loop sequence alignments\n",
    "\n",
    "## TEM-1 only cluster\n",
    "#### with 447 variants of length 263, a consensus sequence arises\n",
    "WEPELNEA\n",
    "\n",
    "\n",
    "## All B-lactamases \n",
    "#### with 83 776 variants of length 263, a consensus sequence does not simply arise\n",
    "#### find a sequence with overall less than 30 percent representation\n",
    "P-G...--\n",
    "\n",
    "second place is -N-DLADT\n",
    "\n",
    "fusing these two results the sequence PNGDLADT arises"
   ]
  },
  {
   "cell_type": "code",
   "execution_count": 13,
   "metadata": {},
   "outputs": [
    {
     "name": "stdout",
     "output_type": "stream",
     "text": [
      "*Number of variants\n",
      " Shape(sequence=447, position=263)\n",
      "('W', 95.74944071588367) ('R', 1.1185682326621924)\n",
      "('E', 98.88143176733782) ('G', 0.8948545861297539)\n",
      "('P', 55.48098434004475) ('T', 44.51901565995526)\n",
      "('E', 93.73601789709173) ('A', 4.697986577181208)\n",
      "('L', 99.32885906040269) ('M', 0.44742729306487694)\n",
      "('N', 99.77628635346755) ('T', 0.22371364653243847)\n",
      "('E', 98.88143176733782) ('Q', 0.44742729306487694)\n",
      "('A', 99.32885906040269) ('V', 0.22371364653243847)\n"
     ]
    }
   ],
   "source": [
    "import matplotlib.pyplot as plt\n",
    "import numpy as np\n",
    "import pandas as pd\n",
    "from collections import Counter\n",
    "from skbio import TabularMSA, Protein\n",
    "\n",
    "msa = TabularMSA.read('blact.fasta', constructor = Protein, lowercase= True)\n",
    "msa.reassign_index(minter= 'id')\n",
    "print(\"*Number of variants\\n\",msa.shape)\n",
    "omegas = {1:[], 2:[], 3:[], 4:[], 5:[], 6:[], 7:[], 8:[]}\n",
    "\n",
    "for variant in msa:\n",
    "    positions = np.linspace(1, len(variant[139:147]), len(variant[139:147]),dtype = int)\n",
    "    for position, acid in zip(positions, variant[139:147]):\n",
    "        position = int(position)\n",
    "        omegas[position].append(str(acid))\n",
    "conservation_raw = {}\n",
    "for key in omegas.keys():\n",
    "    if key not in conservation_raw.keys():\n",
    "        conservation_raw.update({key:Counter(omegas[key])})\n",
    "conservation_normalized={}\n",
    "total = 447.0\n",
    "for key in conservation_raw.keys():\n",
    "    if key not in conservation_normalized.keys():\n",
    "        new_value = dict(conservation_raw[key])\n",
    "        #print(new_value)\n",
    "        for y, value in zip(new_value.keys(), new_value.values()):\n",
    "            new_value.update({y: value/total*100})\n",
    "    conservation_normalized.update({key: new_value})\n",
    "import operator\n",
    "for value in conservation_normalized.values():\n",
    "    coolest = max(value.items(), key=operator.itemgetter(1))\n",
    "    second_coolest = ('',0)\n",
    "    for key in value.keys():\n",
    "        if value[key] > second_coolest[1] and value[key] is not coolest[1]:\n",
    "            second_coolest = (key, value[key])\n",
    "    print(coolest, second_coolest)\n",
    "#print(conservation_normalized)"
   ]
  },
  {
   "cell_type": "code",
   "execution_count": 12,
   "metadata": {},
   "outputs": [
    {
     "name": "stdout",
     "output_type": "stream",
     "text": [
      "*Number of variants\n",
      " Shape(sequence=83776, position=263)\n",
      "('P', 26.603084415584416) ('-', 14.269003055767762)\n",
      "('-', 17.79984721161192) ('N', 9.623281130634071)\n",
      "('G', 27.99131016042781) ('-', 25.95731474407945)\n",
      "('.', 43.188980137509546) ('D', 9.567179144385026)\n",
      "('.', 44.50677998472116) ('L', 14.241548892284186)\n",
      "('.', 41.81746562261268) ('A', 10.190269289533996)\n",
      "('-', 29.71376050420168) ('D', 10.813359434682965)\n",
      "('-', 21.84157754010695) ('T', 11.325439266615737)\n"
     ]
    }
   ],
   "source": [
    "import matplotlib.pyplot as plt\n",
    "import numpy as np\n",
    "import pandas as pd\n",
    "from collections import Counter\n",
    "from skbio import TabularMSA, Protein\n",
    "\n",
    "msa = TabularMSA.read('tem-complete_run.fa', format = 'fasta', constructor = Protein, lowercase= True)\n",
    "msa.reassign_index(minter= 'id')\n",
    "print(\"*Number of variants\\n\",msa.shape)\n",
    "omegas = {1:[], 2:[], 3:[], 4:[], 5:[], 6:[], 7:[], 8:[]}\n",
    "\n",
    "for variant in msa:\n",
    "    positions = np.linspace(1, len(variant[139:147]), len(variant[139:147]),dtype = int)\n",
    "    for position, acid in zip(positions, variant[139:147]):\n",
    "        position = int(position)\n",
    "        omegas[position].append(str(acid))\n",
    "conservation_raw = {}\n",
    "for key in omegas.keys():\n",
    "    if key not in conservation_raw.keys():\n",
    "        conservation_raw.update({key:Counter(omegas[key])})\n",
    "conservation_normalized={}\n",
    "total = 83776.0\n",
    "for key in conservation_raw.keys():\n",
    "    if key not in conservation_normalized.keys():\n",
    "        new_value = dict(conservation_raw[key])\n",
    "        #print(new_value)\n",
    "        for y, value in zip(new_value.keys(), new_value.values()):\n",
    "            new_value.update({y: value/total*100})\n",
    "    conservation_normalized.update({key: new_value})\n",
    "import operator\n",
    "\n",
    "for value in conservation_normalized.values():\n",
    "    coolest = max(value.items(), key=operator.itemgetter(1))\n",
    "    second_coolest = ('',0)\n",
    "    for key in value.keys():\n",
    "        if value[key] > second_coolest[1] and value[key] is not coolest[1]:\n",
    "            second_coolest = (key, value[key])\n",
    "    print(coolest, second_coolest)\n",
    "#print(conservation_normalized)"
   ]
  },
  {
   "cell_type": "code",
   "execution_count": null,
   "metadata": {},
   "outputs": [],
   "source": []
  }
 ],
 "metadata": {
  "kernelspec": {
   "display_name": "Python 3",
   "language": "python",
   "name": "python3"
  },
  "language_info": {
   "codemirror_mode": {
    "name": "ipython",
    "version": 3
   },
   "file_extension": ".py",
   "mimetype": "text/x-python",
   "name": "python",
   "nbconvert_exporter": "python",
   "pygments_lexer": "ipython3",
   "version": "3.6.5"
  }
 },
 "nbformat": 4,
 "nbformat_minor": 2
}
